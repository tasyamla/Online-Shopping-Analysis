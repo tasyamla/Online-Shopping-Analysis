{
 "cells": [
  {
   "cell_type": "markdown",
   "metadata": {},
   "source": [
    "# **1. Introduction**"
   ]
  },
  {
   "cell_type": "markdown",
   "metadata": {},
   "source": [
    "**Milestone 3**\n",
    "\n",
    "Nama  : Tasya Amalia\n",
    "\n",
    "Batch : FTDS-016-HCK\n",
    "\n",
    "Tugas ini dibuat untuk melakukan validasi data, seperti memeriksa keakuratan, konsistensi, dan kelengkapan data menggunakan Great Expectations\n"
   ]
  },
  {
   "cell_type": "markdown",
   "metadata": {},
   "source": [
    "# **2. Import Libraries**"
   ]
  },
  {
   "cell_type": "code",
   "execution_count": 2,
   "metadata": {},
   "outputs": [
    {
     "name": "stderr",
     "output_type": "stream",
     "text": [
      "c:\\Users\\irfan\\anaconda3\\New folder\\lib\\site-packages\\pandas\\core\\computation\\expressions.py:21: UserWarning: Pandas requires version '2.8.4' or newer of 'numexpr' (version '2.8.3' currently installed).\n",
      "  from pandas.core.computation.check import NUMEXPR_INSTALLED\n",
      "c:\\Users\\irfan\\anaconda3\\New folder\\lib\\site-packages\\pandas\\core\\arrays\\masked.py:60: UserWarning: Pandas requires version '1.3.6' or newer of 'bottleneck' (version '1.3.5' currently installed).\n",
      "  from pandas.core import (\n"
     ]
    }
   ],
   "source": [
    "# import pandas as pd\n",
    "import great_expectations as ge\n",
    "from great_expectations.data_context import FileDataContext"
   ]
  },
  {
   "cell_type": "markdown",
   "metadata": {},
   "source": [
    "**Penjelasan:**\n",
    "\n",
    "Mengimport semua library yang diperlukan untuk memfasilitasi pengerjaan tugas ini."
   ]
  },
  {
   "cell_type": "markdown",
   "metadata": {},
   "source": [
    "# **3. Data Loading**"
   ]
  },
  {
   "cell_type": "code",
   "execution_count": 3,
   "metadata": {},
   "outputs": [],
   "source": [
    "context = FileDataContext.create(project_root_dir='./')"
   ]
  },
  {
   "cell_type": "code",
   "execution_count": 4,
   "metadata": {},
   "outputs": [],
   "source": [
    "# Memberikan nama Datasource\n",
    "datasource_name = 'online_shopping_dataset'\n",
    "if context.datasources:\n",
    "    context.delete_datasource(datasource_name)\n",
    "datasource = context.sources.add_pandas(datasource_name)\n",
    "\n",
    "# Memberikan nama data asset\n",
    "asset_name = 'online_shopping_dataset'\n",
    "path_to_data = 'P2M3_Tasya_Amalia_Data_Clean.csv'\n",
    "asset = datasource.add_csv_asset(asset_name, filepath_or_buffer=path_to_data)\n",
    "\n",
    "batch_request = asset.build_batch_request()"
   ]
  },
  {
   "cell_type": "markdown",
   "metadata": {},
   "source": [
    "# **4. Great Expectations**"
   ]
  },
  {
   "cell_type": "code",
   "execution_count": 5,
   "metadata": {},
   "outputs": [
    {
     "data": {
      "application/vnd.jupyter.widget-view+json": {
       "model_id": "bc14ced3b0dd44f7951c44e7256ebfac",
       "version_major": 2,
       "version_minor": 0
      },
      "text/plain": [
       "Calculating Metrics:   0%|          | 0/1 [00:00<?, ?it/s]"
      ]
     },
     "metadata": {},
     "output_type": "display_data"
    },
    {
     "data": {
      "text/html": [
       "<div>\n",
       "<style scoped>\n",
       "    .dataframe tbody tr th:only-of-type {\n",
       "        vertical-align: middle;\n",
       "    }\n",
       "\n",
       "    .dataframe tbody tr th {\n",
       "        vertical-align: top;\n",
       "    }\n",
       "\n",
       "    .dataframe thead th {\n",
       "        text-align: right;\n",
       "    }\n",
       "</style>\n",
       "<table border=\"1\" class=\"dataframe\">\n",
       "  <thead>\n",
       "    <tr style=\"text-align: right;\">\n",
       "      <th></th>\n",
       "      <th>unnamed 0</th>\n",
       "      <th>gender</th>\n",
       "      <th>location</th>\n",
       "      <th>tenure_months</th>\n",
       "      <th>transaction_date</th>\n",
       "      <th>product_category</th>\n",
       "      <th>quantity</th>\n",
       "      <th>avg_price</th>\n",
       "      <th>delivery_charges</th>\n",
       "      <th>coupon_status</th>\n",
       "      <th>...</th>\n",
       "      <th>offline_spend</th>\n",
       "      <th>online_spend</th>\n",
       "      <th>month</th>\n",
       "      <th>discount_pct</th>\n",
       "      <th>total_item_price</th>\n",
       "      <th>discount_amount</th>\n",
       "      <th>discounted_price</th>\n",
       "      <th>net_price</th>\n",
       "      <th>total_spend</th>\n",
       "      <th>revenue_unit</th>\n",
       "    </tr>\n",
       "  </thead>\n",
       "  <tbody>\n",
       "    <tr>\n",
       "      <th>0</th>\n",
       "      <td>0</td>\n",
       "      <td>Male</td>\n",
       "      <td>Chicago</td>\n",
       "      <td>12</td>\n",
       "      <td>2019-01-01</td>\n",
       "      <td>Nest-USA</td>\n",
       "      <td>1</td>\n",
       "      <td>153.71</td>\n",
       "      <td>6.5</td>\n",
       "      <td>Used</td>\n",
       "      <td>...</td>\n",
       "      <td>4500.0</td>\n",
       "      <td>2424.5</td>\n",
       "      <td>1</td>\n",
       "      <td>10</td>\n",
       "      <td>153.71</td>\n",
       "      <td>15.371</td>\n",
       "      <td>138.339</td>\n",
       "      <td>144.839</td>\n",
       "      <td>144.839</td>\n",
       "      <td>144.839</td>\n",
       "    </tr>\n",
       "    <tr>\n",
       "      <th>1</th>\n",
       "      <td>1</td>\n",
       "      <td>Male</td>\n",
       "      <td>Chicago</td>\n",
       "      <td>12</td>\n",
       "      <td>2019-01-01</td>\n",
       "      <td>Nest-USA</td>\n",
       "      <td>1</td>\n",
       "      <td>153.71</td>\n",
       "      <td>6.5</td>\n",
       "      <td>Used</td>\n",
       "      <td>...</td>\n",
       "      <td>4500.0</td>\n",
       "      <td>2424.5</td>\n",
       "      <td>1</td>\n",
       "      <td>10</td>\n",
       "      <td>153.71</td>\n",
       "      <td>15.371</td>\n",
       "      <td>138.339</td>\n",
       "      <td>144.839</td>\n",
       "      <td>144.839</td>\n",
       "      <td>144.839</td>\n",
       "    </tr>\n",
       "    <tr>\n",
       "      <th>2</th>\n",
       "      <td>2</td>\n",
       "      <td>Male</td>\n",
       "      <td>Chicago</td>\n",
       "      <td>12</td>\n",
       "      <td>2019-01-01</td>\n",
       "      <td>Nest-USA</td>\n",
       "      <td>2</td>\n",
       "      <td>122.77</td>\n",
       "      <td>6.5</td>\n",
       "      <td>Not Used</td>\n",
       "      <td>...</td>\n",
       "      <td>4500.0</td>\n",
       "      <td>2424.5</td>\n",
       "      <td>1</td>\n",
       "      <td>10</td>\n",
       "      <td>245.54</td>\n",
       "      <td>24.554</td>\n",
       "      <td>220.986</td>\n",
       "      <td>227.486</td>\n",
       "      <td>227.486</td>\n",
       "      <td>113.743</td>\n",
       "    </tr>\n",
       "    <tr>\n",
       "      <th>3</th>\n",
       "      <td>3</td>\n",
       "      <td>Male</td>\n",
       "      <td>Chicago</td>\n",
       "      <td>12</td>\n",
       "      <td>2019-01-01</td>\n",
       "      <td>Nest-USA</td>\n",
       "      <td>1</td>\n",
       "      <td>81.50</td>\n",
       "      <td>6.5</td>\n",
       "      <td>Clicked</td>\n",
       "      <td>...</td>\n",
       "      <td>4500.0</td>\n",
       "      <td>2424.5</td>\n",
       "      <td>1</td>\n",
       "      <td>10</td>\n",
       "      <td>81.50</td>\n",
       "      <td>8.150</td>\n",
       "      <td>73.350</td>\n",
       "      <td>79.850</td>\n",
       "      <td>79.850</td>\n",
       "      <td>79.850</td>\n",
       "    </tr>\n",
       "    <tr>\n",
       "      <th>4</th>\n",
       "      <td>4</td>\n",
       "      <td>Male</td>\n",
       "      <td>Chicago</td>\n",
       "      <td>12</td>\n",
       "      <td>2019-01-01</td>\n",
       "      <td>Nest-USA</td>\n",
       "      <td>1</td>\n",
       "      <td>153.71</td>\n",
       "      <td>6.5</td>\n",
       "      <td>Clicked</td>\n",
       "      <td>...</td>\n",
       "      <td>4500.0</td>\n",
       "      <td>2424.5</td>\n",
       "      <td>1</td>\n",
       "      <td>10</td>\n",
       "      <td>153.71</td>\n",
       "      <td>15.371</td>\n",
       "      <td>138.339</td>\n",
       "      <td>144.839</td>\n",
       "      <td>144.839</td>\n",
       "      <td>144.839</td>\n",
       "    </tr>\n",
       "  </tbody>\n",
       "</table>\n",
       "<p>5 rows × 21 columns</p>\n",
       "</div>"
      ],
      "text/plain": [
       "   unnamed 0 gender location  tenure_months transaction_date product_category  \\\n",
       "0          0   Male  Chicago             12       2019-01-01         Nest-USA   \n",
       "1          1   Male  Chicago             12       2019-01-01         Nest-USA   \n",
       "2          2   Male  Chicago             12       2019-01-01         Nest-USA   \n",
       "3          3   Male  Chicago             12       2019-01-01         Nest-USA   \n",
       "4          4   Male  Chicago             12       2019-01-01         Nest-USA   \n",
       "\n",
       "   quantity  avg_price  delivery_charges coupon_status  ...  offline_spend  \\\n",
       "0         1     153.71               6.5          Used  ...         4500.0   \n",
       "1         1     153.71               6.5          Used  ...         4500.0   \n",
       "2         2     122.77               6.5      Not Used  ...         4500.0   \n",
       "3         1      81.50               6.5       Clicked  ...         4500.0   \n",
       "4         1     153.71               6.5       Clicked  ...         4500.0   \n",
       "\n",
       "   online_spend  month  discount_pct  total_item_price  discount_amount  \\\n",
       "0        2424.5      1            10            153.71           15.371   \n",
       "1        2424.5      1            10            153.71           15.371   \n",
       "2        2424.5      1            10            245.54           24.554   \n",
       "3        2424.5      1            10             81.50            8.150   \n",
       "4        2424.5      1            10            153.71           15.371   \n",
       "\n",
       "   discounted_price  net_price  total_spend  revenue_unit  \n",
       "0           138.339    144.839      144.839       144.839  \n",
       "1           138.339    144.839      144.839       144.839  \n",
       "2           220.986    227.486      227.486       113.743  \n",
       "3            73.350     79.850       79.850        79.850  \n",
       "4           138.339    144.839      144.839       144.839  \n",
       "\n",
       "[5 rows x 21 columns]"
      ]
     },
     "execution_count": 5,
     "metadata": {},
     "output_type": "execute_result"
    }
   ],
   "source": [
    "# Creat an expectation suite\n",
    "expectation_suite_name = 'expectation_online_shopping_dataset'\n",
    "context.add_or_update_expectation_suite(expectation_suite_name)\n",
    "\n",
    "# Create a validator using above expectation suite\n",
    "validator = context.get_validator(\n",
    "    batch_request = batch_request,\n",
    "    expectation_suite_name = expectation_suite_name\n",
    ")\n",
    "\n",
    "# Check the validator\n",
    "validator.head()"
   ]
  },
  {
   "cell_type": "markdown",
   "metadata": {},
   "source": [
    "### **4.1 Expect each column value to be unique**"
   ]
  },
  {
   "cell_type": "code",
   "execution_count": 6,
   "metadata": {},
   "outputs": [
    {
     "data": {
      "application/vnd.jupyter.widget-view+json": {
       "model_id": "28321b6acea24e3e8140a0d420d4e2d4",
       "version_major": 2,
       "version_minor": 0
      },
      "text/plain": [
       "Calculating Metrics:   0%|          | 0/8 [00:00<?, ?it/s]"
      ]
     },
     "metadata": {},
     "output_type": "display_data"
    },
    {
     "data": {
      "text/plain": [
       "{\n",
       "  \"success\": true,\n",
       "  \"result\": {\n",
       "    \"element_count\": 52524,\n",
       "    \"unexpected_count\": 0,\n",
       "    \"unexpected_percent\": 0.0,\n",
       "    \"partial_unexpected_list\": [],\n",
       "    \"missing_count\": 0,\n",
       "    \"missing_percent\": 0.0,\n",
       "    \"unexpected_percent_total\": 0.0,\n",
       "    \"unexpected_percent_nonmissing\": 0.0\n",
       "  },\n",
       "  \"meta\": {},\n",
       "  \"exception_info\": {\n",
       "    \"raised_exception\": false,\n",
       "    \"exception_traceback\": null,\n",
       "    \"exception_message\": null\n",
       "  }\n",
       "}"
      ]
     },
     "execution_count": 6,
     "metadata": {},
     "output_type": "execute_result"
    }
   ],
   "source": [
    "# Expectation 1 : Column `unnamed 0` must be unique\n",
    "\n",
    "validator.expect_column_values_to_be_unique('unnamed 0')"
   ]
  },
  {
   "cell_type": "markdown",
   "metadata": {},
   "source": [
    "**Penjelasan**:\n",
    "\n",
    "Hasil validasi menunjukkan bahwa semua nilai dalam kolom `unnamed 0` memenuhi kriteria sudah ditentukan, yaitu semua nilai dalam kolom tersebut adalah unik. "
   ]
  },
  {
   "cell_type": "markdown",
   "metadata": {},
   "source": [
    "### **4.2 Expect the column entries to be between a minimum value and a maximum value**"
   ]
  },
  {
   "cell_type": "code",
   "execution_count": 7,
   "metadata": {},
   "outputs": [
    {
     "data": {
      "application/vnd.jupyter.widget-view+json": {
       "model_id": "c9d0f145f21a4b23a6b0abe6040d39ae",
       "version_major": 2,
       "version_minor": 0
      },
      "text/plain": [
       "Calculating Metrics:   0%|          | 0/8 [00:00<?, ?it/s]"
      ]
     },
     "metadata": {},
     "output_type": "display_data"
    },
    {
     "data": {
      "text/plain": [
       "{\n",
       "  \"success\": true,\n",
       "  \"result\": {\n",
       "    \"element_count\": 52524,\n",
       "    \"unexpected_count\": 0,\n",
       "    \"unexpected_percent\": 0.0,\n",
       "    \"partial_unexpected_list\": [],\n",
       "    \"missing_count\": 0,\n",
       "    \"missing_percent\": 0.0,\n",
       "    \"unexpected_percent_total\": 0.0,\n",
       "    \"unexpected_percent_nonmissing\": 0.0\n",
       "  },\n",
       "  \"meta\": {},\n",
       "  \"exception_info\": {\n",
       "    \"raised_exception\": false,\n",
       "    \"exception_traceback\": null,\n",
       "    \"exception_message\": null\n",
       "  }\n",
       "}"
      ]
     },
     "execution_count": 7,
     "metadata": {},
     "output_type": "execute_result"
    }
   ],
   "source": [
    "# Expectation 2 : Column `revenue_unit` must be between 0.380 and 540.832\n",
    "\n",
    "validator.expect_column_values_to_be_between(\n",
    "    column='revenue_unit', min_value=0.380, max_value=540.832)"
   ]
  },
  {
   "cell_type": "markdown",
   "metadata": {},
   "source": [
    "**Penjelasan**:\n",
    "\n",
    "Hasil validasi menunjukkan bahwa semua nilai dalam kolom `revenue_unit` memenuhi kriteria sudah ditentukan, yaitu berada di antara 0.380 dan 540.832."
   ]
  },
  {
   "cell_type": "markdown",
   "metadata": {},
   "source": [
    "### **4.3 Expect each column value to be in a given set**"
   ]
  },
  {
   "cell_type": "code",
   "execution_count": 8,
   "metadata": {},
   "outputs": [
    {
     "data": {
      "application/vnd.jupyter.widget-view+json": {
       "model_id": "c28e313fc0584bfbb6323d55fc33de66",
       "version_major": 2,
       "version_minor": 0
      },
      "text/plain": [
       "Calculating Metrics:   0%|          | 0/8 [00:00<?, ?it/s]"
      ]
     },
     "metadata": {},
     "output_type": "display_data"
    },
    {
     "data": {
      "text/plain": [
       "{\n",
       "  \"success\": true,\n",
       "  \"result\": {\n",
       "    \"element_count\": 52524,\n",
       "    \"unexpected_count\": 0,\n",
       "    \"unexpected_percent\": 0.0,\n",
       "    \"partial_unexpected_list\": [],\n",
       "    \"missing_count\": 0,\n",
       "    \"missing_percent\": 0.0,\n",
       "    \"unexpected_percent_total\": 0.0,\n",
       "    \"unexpected_percent_nonmissing\": 0.0\n",
       "  },\n",
       "  \"meta\": {},\n",
       "  \"exception_info\": {\n",
       "    \"raised_exception\": false,\n",
       "    \"exception_traceback\": null,\n",
       "    \"exception_message\": null\n",
       "  }\n",
       "}"
      ]
     },
     "execution_count": 8,
     "metadata": {},
     "output_type": "execute_result"
    }
   ],
   "source": [
    "# Expectation 3: The `gender` column must contain 'Male' and 'Female'\n",
    "gender_gx = ['Male', 'Female']\n",
    "validator.expect_column_values_to_be_in_set('gender', gender_gx)\n"
   ]
  },
  {
   "cell_type": "markdown",
   "metadata": {},
   "source": [
    "**Penjelasan**:\n",
    "\n",
    "Hasil validasi menunjukkan bahwa semua nilai dalam kolom `gender` memenuhi kriteria sudah ditentukan, yaitu hanya berisi nilai Male dan Female. "
   ]
  },
  {
   "cell_type": "markdown",
   "metadata": {},
   "source": [
    "### **4.4 Expect a column to contain values of a specified data type**"
   ]
  },
  {
   "cell_type": "code",
   "execution_count": 9,
   "metadata": {},
   "outputs": [
    {
     "data": {
      "application/vnd.jupyter.widget-view+json": {
       "model_id": "4675978d15ad413e8217d38f3a8e7826",
       "version_major": 2,
       "version_minor": 0
      },
      "text/plain": [
       "Calculating Metrics:   0%|          | 0/1 [00:00<?, ?it/s]"
      ]
     },
     "metadata": {},
     "output_type": "display_data"
    },
    {
     "data": {
      "text/plain": [
       "{\n",
       "  \"success\": true,\n",
       "  \"result\": {\n",
       "    \"observed_value\": \"int64\"\n",
       "  },\n",
       "  \"meta\": {},\n",
       "  \"exception_info\": {\n",
       "    \"raised_exception\": false,\n",
       "    \"exception_traceback\": null,\n",
       "    \"exception_message\": null\n",
       "  }\n",
       "}"
      ]
     },
     "execution_count": 9,
     "metadata": {},
     "output_type": "execute_result"
    }
   ],
   "source": [
    "# Expectation 4: Colomn 'quantity' must be either int or float\n",
    "validator.expect_column_values_to_be_in_type_list(\n",
    "    column='quantity',\n",
    "    type_list=['int64', 'float64'])"
   ]
  },
  {
   "cell_type": "markdown",
   "metadata": {},
   "source": [
    "**Penjelasan**:\n",
    "\n",
    "Hasil validasi menunjukkan bahwa semua nilai dalam kolom `quantity` memenuhi kriteria sudah ditentukan, yaitu berupa tipe data yang diharapkan, yaitu int64. "
   ]
  },
  {
   "cell_type": "markdown",
   "metadata": {},
   "source": [
    "### **4.5 Expect the values in column A to be greater than column B**"
   ]
  },
  {
   "cell_type": "code",
   "execution_count": 17,
   "metadata": {},
   "outputs": [
    {
     "data": {
      "application/vnd.jupyter.widget-view+json": {
       "model_id": "dd0c69896c0c4abb8928ddd81be001e2",
       "version_major": 2,
       "version_minor": 0
      },
      "text/plain": [
       "Calculating Metrics:   0%|          | 0/7 [00:00<?, ?it/s]"
      ]
     },
     "metadata": {},
     "output_type": "display_data"
    },
    {
     "data": {
      "text/plain": [
       "{\n",
       "  \"success\": true,\n",
       "  \"result\": {\n",
       "    \"element_count\": 52524,\n",
       "    \"unexpected_count\": 0,\n",
       "    \"unexpected_percent\": 0.0,\n",
       "    \"partial_unexpected_list\": [],\n",
       "    \"missing_count\": 0,\n",
       "    \"missing_percent\": 0.0,\n",
       "    \"unexpected_percent_total\": 0.0,\n",
       "    \"unexpected_percent_nonmissing\": 0.0\n",
       "  },\n",
       "  \"meta\": {},\n",
       "  \"exception_info\": {\n",
       "    \"raised_exception\": false,\n",
       "    \"exception_traceback\": null,\n",
       "    \"exception_message\": null\n",
       "  }\n",
       "}"
      ]
     },
     "execution_count": 17,
     "metadata": {},
     "output_type": "execute_result"
    }
   ],
   "source": [
    "# Expectation 5 : Column column `total_item_price` to be greater than column `discounted_price`\n",
    "validator.expect_column_pair_values_a_to_be_greater_than_b(\n",
    "    column_A='total_item_price',\n",
    "    column_B='discounted_price'\n",
    ")"
   ]
  },
  {
   "cell_type": "markdown",
   "metadata": {},
   "source": [
    "**Penjelasan**:\n",
    "\n",
    "Hasil validasi menunjukkan bahwa semua nilai dalam kolom `total_item_price` memenuhi kriteria sudah ditentukan, yaitu lebih besar dari nilai dalam kolom `discounted_price`. "
   ]
  },
  {
   "cell_type": "markdown",
   "metadata": {},
   "source": [
    "### **4.6 Expect the column median to be between a minimum value and a maximum value**"
   ]
  },
  {
   "cell_type": "code",
   "execution_count": 18,
   "metadata": {},
   "outputs": [
    {
     "data": {
      "application/vnd.jupyter.widget-view+json": {
       "model_id": "7b52edb116054b94a4a6c1042661b627",
       "version_major": 2,
       "version_minor": 0
      },
      "text/plain": [
       "Calculating Metrics:   0%|          | 0/4 [00:00<?, ?it/s]"
      ]
     },
     "metadata": {},
     "output_type": "display_data"
    },
    {
     "data": {
      "text/plain": [
       "{\n",
       "  \"success\": true,\n",
       "  \"result\": {\n",
       "    \"observed_value\": 16.99\n",
       "  },\n",
       "  \"meta\": {},\n",
       "  \"exception_info\": {\n",
       "    \"raised_exception\": false,\n",
       "    \"exception_traceback\": null,\n",
       "    \"exception_message\": null\n",
       "  }\n",
       "}"
      ]
     },
     "execution_count": 18,
     "metadata": {},
     "output_type": "execute_result"
    }
   ],
   "source": [
    "# Expectation 6 : Column `avg_price` must be between 1.000 and 20.000\n",
    "\n",
    "validator.expect_column_median_to_be_between(\n",
    "    column='avg_price', min_value=1.000, max_value=20.000)"
   ]
  },
  {
   "cell_type": "markdown",
   "metadata": {},
   "source": [
    "**Penjelasan**:\n",
    "\n",
    "Hasil validasi menunjukkan bahwa semua nilai dalam kolom `avg_price` memenuhi kriteria sudah ditentukan, yaitu nilai median berada di antara 1.000 dan 20.000."
   ]
  },
  {
   "cell_type": "markdown",
   "metadata": {},
   "source": [
    "### **4.7 Expect the column entries to be strings that match a given regular expression**"
   ]
  },
  {
   "cell_type": "code",
   "execution_count": 27,
   "metadata": {},
   "outputs": [
    {
     "data": {
      "application/vnd.jupyter.widget-view+json": {
       "model_id": "1b29bf36d19349c59fb1dac6a874f9bd",
       "version_major": 2,
       "version_minor": 0
      },
      "text/plain": [
       "Calculating Metrics:   0%|          | 0/8 [00:00<?, ?it/s]"
      ]
     },
     "metadata": {},
     "output_type": "display_data"
    },
    {
     "data": {
      "text/plain": [
       "{\n",
       "  \"success\": true,\n",
       "  \"result\": {\n",
       "    \"element_count\": 52524,\n",
       "    \"unexpected_count\": 0,\n",
       "    \"unexpected_percent\": 0.0,\n",
       "    \"partial_unexpected_list\": [],\n",
       "    \"missing_count\": 0,\n",
       "    \"missing_percent\": 0.0,\n",
       "    \"unexpected_percent_total\": 0.0,\n",
       "    \"unexpected_percent_nonmissing\": 0.0\n",
       "  },\n",
       "  \"meta\": {},\n",
       "  \"exception_info\": {\n",
       "    \"raised_exception\": false,\n",
       "    \"exception_traceback\": null,\n",
       "    \"exception_message\": null\n",
       "  }\n",
       "}"
      ]
     },
     "execution_count": 27,
     "metadata": {},
     "output_type": "execute_result"
    }
   ],
   "source": [
    "# Expectation 7 : check column 'coupon status' match a given regular expression\n",
    "\n",
    "validator.expect_column_values_to_match_regex(\n",
    "    column='coupon_status',\n",
    "    like_pattern='%[d]',\n",
    "    )  "
   ]
  },
  {
   "cell_type": "markdown",
   "metadata": {},
   "source": [
    "**Penjelasan**:\n",
    "\n",
    "Hasil validasi menunjukkan bahwa kolom 'coupon status' cocok dengan ekspresi reguler yang diberikan."
   ]
  }
 ],
 "metadata": {
  "kernelspec": {
   "display_name": "base",
   "language": "python",
   "name": "python3"
  },
  "language_info": {
   "codemirror_mode": {
    "name": "ipython",
    "version": 3
   },
   "file_extension": ".py",
   "mimetype": "text/x-python",
   "name": "python",
   "nbconvert_exporter": "python",
   "pygments_lexer": "ipython3",
   "version": "3.9.13"
  }
 },
 "nbformat": 4,
 "nbformat_minor": 2
}
